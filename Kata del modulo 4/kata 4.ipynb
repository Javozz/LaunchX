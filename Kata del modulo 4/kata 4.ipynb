{
 "cells": [
  {
   "cell_type": "markdown",
   "metadata": {},
   "source": [
    "# Ejercicio 1"
   ]
  },
  {
   "cell_type": "code",
   "execution_count": 2,
   "metadata": {},
   "outputs": [],
   "source": [
    "text = \"\"\"Interesting facts about the Moon. The Moon is Earth's only satellite. There are several interesting facts about the Moon and how it affects life here on Earth. \n",
    "On average, the Moon moves 4cm away from the Earth every year. This yearly drift is not significant enough to cause immediate effects on Earth. The highest daylight temperature of the Moon is 127 C.\"\"\""
   ]
  },
  {
   "cell_type": "code",
   "execution_count": 3,
   "metadata": {},
   "outputs": [
    {
     "name": "stdout",
     "output_type": "stream",
     "text": [
      "Interesting facts about the Moon. The Moon is Earth's only satellite. There are several interesting facts about the Moon and how it affects life here on Earth. \n",
      "On average, the Moon moves 4cm away from the Earth every year. This yearly drift is not significant enough to cause immediate effects on Earth. The highest daylight temperature of the Moon is 127 C.\n"
     ]
    }
   ],
   "source": [
    "print(text)"
   ]
  },
  {
   "cell_type": "code",
   "execution_count": 4,
   "metadata": {},
   "outputs": [
    {
     "name": "stdout",
     "output_type": "stream",
     "text": [
      "['Interesting facts about the Moon', \"The Moon is Earth's only satellite\", 'There are several interesting facts about the Moon and how it affects life here on Earth', '\\nOn average, the Moon moves 4cm away from the Earth every year', 'This yearly drift is not significant enough to cause immediate effects on Earth', 'The highest daylight temperature of the Moon is 127 C.']\n"
     ]
    }
   ],
   "source": [
    "div_text = text.split('. ')\n",
    "print(div_text)"
   ]
  },
  {
   "cell_type": "code",
   "execution_count": 5,
   "metadata": {},
   "outputs": [
    {
     "name": "stdout",
     "output_type": "stream",
     "text": [
      "\n",
      "On average, the Moon moves 4cm away from the Earth every year\n",
      "The highest daylight temperature of the Moon is 127 C.\n",
      "\n",
      "On average, the Moon moves 4cm away from the Earth every year\n",
      "The highest daylight temperature of the Moon is 127 Celsius.\n"
     ]
    }
   ],
   "source": [
    "key_words = [\"average\", \"temperature\", \"distance\"]\n",
    "\n",
    "for sentence in div_text:\n",
    "    for key_word in key_words:\n",
    "        if key_word in sentence:\n",
    "            print(sentence)\n",
    "            break\n",
    "\n",
    "for sentence in div_text:\n",
    "    for key_word in key_words:\n",
    "        if key_word in sentence:\n",
    "            print(sentence.replace(' C', ' Celsius'))\n",
    "            break"
   ]
  },
  {
   "cell_type": "markdown",
   "metadata": {},
   "source": [
    "# Ejercicio 2"
   ]
  },
  {
   "cell_type": "code",
   "execution_count": 6,
   "metadata": {},
   "outputs": [],
   "source": [
    "planeta = 'Marte '\n",
    "gravedad  = 0.00143\n",
    "nombre = 'Ganímedes'"
   ]
  },
  {
   "cell_type": "code",
   "execution_count": 7,
   "metadata": {},
   "outputs": [],
   "source": [
    "title = f'datos de gravedad sobre {nombre}'"
   ]
  },
  {
   "cell_type": "code",
   "execution_count": 8,
   "metadata": {},
   "outputs": [],
   "source": [
    "hechos = f\"\"\"{'-'*80} \n",
    "Nombre del planeta: {planeta} \n",
    "Gravedad en {nombre}: {gravedad * 1000} m/s2 \n",
    "\"\"\""
   ]
  },
  {
   "cell_type": "code",
   "execution_count": 9,
   "metadata": {},
   "outputs": [
    {
     "name": "stdout",
     "output_type": "stream",
     "text": [
      "-------------------------------------------------------------------------------- \n",
      "Nombre del planeta: Marte  \n",
      "Gravedad en Ganímedes: 1.4300000000000002 m/s2 \n",
      "\n"
     ]
    }
   ],
   "source": [
    "template = f\"\"\"{title.title()} \n",
    "{hechos} \n",
    "\"\"\" \n",
    "print(hechos)"
   ]
  },
  {
   "cell_type": "code",
   "execution_count": 14,
   "metadata": {},
   "outputs": [
    {
     "name": "stdout",
     "output_type": "stream",
     "text": [
      "-------------------------------------------------------------------------------- \n",
      "Nombre del planeta: Jupiter  \n",
      "Gravedad en Ganímedes: 7.52 m/s2\n",
      "\n"
     ]
    }
   ],
   "source": [
    "planeta = 'Jupiter '\n",
    "gravedad  = 0.00752\n",
    "nombre = 'Ganímedes'\n",
    "\n",
    "hechos = f\"\"\"{'-'*80} \n",
    "Nombre del planeta: {planeta} \n",
    "Gravedad en {nombre}: {gravedad * 1000} m/s2\n",
    "\"\"\"\n",
    "\n",
    "print(hechos)"
   ]
  },
  {
   "cell_type": "code",
   "execution_count": 15,
   "metadata": {},
   "outputs": [
    {
     "name": "stdout",
     "output_type": "stream",
     "text": [
      "\n",
      "Datos de Gravedad sobre: Ganímedes\n",
      "-------------------------------------------------------------------------------\n",
      "Nombre del planeta: Jupiter \n",
      "Gravedad en Ganímedes: 0.00752 m/s2\n",
      "\n"
     ]
    }
   ],
   "source": [
    "new_template = \"\"\"\n",
    "Datos de Gravedad sobre: {nombre}\n",
    "-------------------------------------------------------------------------------\n",
    "Nombre del planeta: {planeta}\n",
    "Gravedad en {nombre}: {gravedad} m/s2\n",
    "\"\"\"\n",
    "print(new_template.format(nombre=nombre, planeta=planeta, gravedad=gravedad))"
   ]
  },
  {
   "cell_type": "code",
   "execution_count": 16,
   "metadata": {},
   "outputs": [
    {
     "name": "stdout",
     "output_type": "stream",
     "text": [
      "\n",
      "Datos de Gravedad sobre: Ganímedes\n",
      "-------------------------------------------------------------------------------\n",
      "Nombre del planeta: Jupiter \n",
      "Gravedad en Ganímedes: 7.52 m/s2\n",
      "\n"
     ]
    }
   ],
   "source": [
    "print(new_template.format(nombre=nombre, planeta=planeta, gravedad=gravedad*1000))"
   ]
  }
 ],
 "metadata": {
  "interpreter": {
   "hash": "aee8b7b246df8f9039afb4144a1f6fd8d2ca17a180786b69acc140d282b71a49"
  },
  "kernelspec": {
   "display_name": "Python 3.9.10 64-bit",
   "language": "python",
   "name": "python3"
  },
  "language_info": {
   "codemirror_mode": {
    "name": "ipython",
    "version": 3
   },
   "file_extension": ".py",
   "mimetype": "text/x-python",
   "name": "python",
   "nbconvert_exporter": "python",
   "pygments_lexer": "ipython3",
   "version": "3.9.10"
  },
  "orig_nbformat": 4
 },
 "nbformat": 4,
 "nbformat_minor": 2
}
